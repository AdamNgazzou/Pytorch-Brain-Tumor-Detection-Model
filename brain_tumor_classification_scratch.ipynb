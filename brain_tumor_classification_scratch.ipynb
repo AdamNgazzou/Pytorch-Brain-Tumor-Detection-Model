{
  "nbformat": 4,
  "nbformat_minor": 0,
  "metadata": {
    "colab": {
      "provenance": [],
      "gpuType": "T4"
    },
    "kernelspec": {
      "name": "python3",
      "display_name": "Python 3"
    },
    "language_info": {
      "name": "python"
    },
    "accelerator": "GPU"
  },
  "cells": [
    {
      "cell_type": "code",
      "metadata": {
        "colab": {
          "base_uri": "https://localhost:8080/"
        },
        "id": "7f1efae1",
        "outputId": "8cab58c6-abb5-4800-8fa3-ac9dd4a397ce"
      },
      "source": [
        "import torch\n",
        "from torch import nn\n",
        "\n",
        "# torch vision\n",
        "import torchvision\n",
        "from torchvision import datasets\n",
        "from torchvision.transforms import ToTensor\n",
        "\n",
        "# matplotlib\n",
        "import matplotlib.pyplot as plt\n",
        "\n",
        "# Note: your PyTorch version shouldn't be lower than 1.10.0 and torchvision version shouldn't be lower than 0.11\n",
        "print(f\"PyTorch version: {torch.__version__}\\ntorchvision version: {torchvision.__version__}\")"
      ],
      "execution_count": 1,
      "outputs": [
        {
          "output_type": "stream",
          "name": "stdout",
          "text": [
            "PyTorch version: 2.6.0+cu124\n",
            "torchvision version: 0.21.0+cu124\n"
          ]
        }
      ]
    },
    {
      "cell_type": "code",
      "source": [
        "import os\n",
        "from torchvision import transforms\n",
        "from torch.utils.data import Dataset, DataLoader\n",
        "from PIL import Image\n",
        "\n",
        "# Define the base directory containing the subfolders\n",
        "base_data_dir = 'brain_mri_scan_images'\n",
        "\n",
        "# Define the transformations to apply to the images\n",
        "data_transforms = transforms.Compose([\n",
        "    transforms.Resize((224, 224)),  # Resize images to a consistent size\n",
        "    transforms.RandomRotation(degrees=15), # Add random rotation\n",
        "    transforms.RandomHorizontalFlip(p=0.5), # Add random horizontal flip\n",
        "    transforms.ColorJitter(brightness=0.1, contrast=0.1), # Add random brightness and contrast\n",
        "    transforms.ToTensor(),  # Convert images to tensors\n",
        "    transforms.Normalize([0.485, 0.456, 0.406], [0.229, 0.224, 0.225])  # Normalize the image data\n",
        "])\n",
        "\n",
        "# Create a custom dataset class\n",
        "class BrainMRIDataset(Dataset):\n",
        "    def __init__(self, base_data_dir, transform=None):\n",
        "        self.base_data_dir = base_data_dir\n",
        "        self.transform = transform\n",
        "        self.image_files = []\n",
        "        self.labels = []\n",
        "\n",
        "        # List subdirectories (positive and negative)\n",
        "        for label, subfolder in enumerate(['negative', 'positive']):\n",
        "            subfolder_path = os.path.join(base_data_dir, subfolder)\n",
        "            if os.path.exists(subfolder_path):\n",
        "                for f in os.listdir(subfolder_path):\n",
        "                    f_path = os.path.join(subfolder_path, f)\n",
        "                    if os.path.isfile(f_path):\n",
        "                        self.image_files.append(f_path)\n",
        "                        self.labels.append(label)\n",
        "\n",
        "\n",
        "    def __len__(self):\n",
        "        return len(self.image_files)\n",
        "\n",
        "    def __getitem__(self, idx):\n",
        "        img_path = self.image_files[idx]\n",
        "        image = Image.open(img_path).convert('RGB') # Ensure image is in RGB format\n",
        "        label = self.labels[idx]\n",
        "\n",
        "        if self.transform:\n",
        "            image = self.transform(image)\n",
        "\n",
        "        return image, label\n",
        "\n",
        "# Create an instance of the dataset\n",
        "brain_mri_dataset = BrainMRIDataset(base_data_dir, transform=data_transforms)\n",
        "\n",
        "# Create a data loader\n",
        "dataloader = DataLoader(brain_mri_dataset, batch_size=32, shuffle=True)\n",
        "\n",
        "print(f\"Number of images found: {len(brain_mri_dataset)}\")\n",
        "# You can now iterate through the dataloader to get batches of images and labels\n",
        "# for images, labels in dataloader:\n",
        "#     print(images.shape, labels.shape)\n",
        "#     break # Example: process one batch"
      ],
      "metadata": {
        "colab": {
          "base_uri": "https://localhost:8080/"
        },
        "id": "V-qlyzJTyVWv",
        "outputId": "2c4007ba-209e-42ea-cac7-0d3c23fc1bff"
      },
      "execution_count": 2,
      "outputs": [
        {
          "output_type": "stream",
          "name": "stdout",
          "text": [
            "Number of images found: 3000\n"
          ]
        }
      ]
    },
    {
      "cell_type": "code",
      "source": [
        "from torch.utils.data import random_split\n",
        "\n",
        "# Define the split ratios\n",
        "train_size = int(0.8 * len(brain_mri_dataset))\n",
        "test_size = len(brain_mri_dataset) - train_size\n",
        "\n",
        "# Split the dataset\n",
        "train_dataset, test_dataset = random_split(brain_mri_dataset, [train_size, test_size])\n",
        "\n",
        "print(f\"Training dataset size: {len(train_dataset)}\")\n",
        "print(f\"Testing dataset size: {len(test_dataset)}\")"
      ],
      "metadata": {
        "id": "Ha1LZWr8zJ4m",
        "colab": {
          "base_uri": "https://localhost:8080/"
        },
        "outputId": "64ec8303-925d-48c5-90a4-64475aa66d4c"
      },
      "execution_count": 3,
      "outputs": [
        {
          "output_type": "stream",
          "name": "stdout",
          "text": [
            "Training dataset size: 2400\n",
            "Testing dataset size: 600\n"
          ]
        }
      ]
    },
    {
      "cell_type": "code",
      "source": [
        "# Get the labels from the training dataset\n",
        "train_labels = [train_dataset.dataset.labels[i] for i in train_dataset.indices]\n",
        "\n",
        "# Count the occurrences of each class\n",
        "from collections import Counter\n",
        "class_counts = Counter(train_labels)\n",
        "\n",
        "# Define class names (assuming 0: negative, 1: positive)\n",
        "class_names = ['negative', 'positive']\n",
        "\n",
        "# Create a bar plot\n",
        "plt.figure(figsize=(8, 6))\n",
        "plt.bar(class_names, [class_counts[0], class_counts[1]], color=['skyblue', 'lightcoral'])\n",
        "plt.xlabel('Class')\n",
        "plt.ylabel('Count')\n",
        "plt.title('Count of Images in Each Class (Training Data)')\n",
        "plt.show()"
      ],
      "metadata": {
        "colab": {
          "base_uri": "https://localhost:8080/",
          "height": 537
        },
        "id": "ggp8t3tnyet8",
        "outputId": "88fef4e7-6de6-49c2-9249-096fc509963f"
      },
      "execution_count": 4,
      "outputs": [
        {
          "output_type": "display_data",
          "data": {
            "text/plain": [
              "<Figure size 800x600 with 1 Axes>"
            ],
            "image/png": "[encoded data removed]"
          },
          "metadata": {}
        }
      ]
    },
    {
      "cell_type": "code",
      "metadata": {
        "id": "63110f2b",
        "colab": {
          "base_uri": "https://localhost:8080/"
        },
        "outputId": "1f37e414-bc48-49b9-be52-142146b140eb"
      },
      "source": [
        "import torch\n",
        "import torch.nn as nn\n",
        "import torchvision.models as models\n",
        "\n",
        "# Define the device to use (GPU if available, otherwise CPU)\n",
        "device = torch.device(\"cuda\" if torch.cuda.is_available() else \"cpu\")\n",
        "print(f\"Using device: {device}\")\n",
        "\n",
        "# Define a simple CNN architecture for binary classification\n",
        "class SimpleCNN(nn.Module):\n",
        "    def __init__(self, num_classes=2):\n",
        "        super(SimpleCNN, self).__init__()\n",
        "        self.features = nn.Sequential(\n",
        "            nn.Conv2d(3, 32, kernel_size=3, padding=1),\n",
        "            nn.ReLU(),\n",
        "            nn.MaxPool2d(kernel_size=2, stride=2),\n",
        "            nn.Conv2d(32, 64, kernel_size=3, padding=1),\n",
        "            nn.ReLU(),\n",
        "            nn.MaxPool2d(kernel_size=2, stride=2),\n",
        "            nn.Conv2d(64, 128, kernel_size=3, padding=1),\n",
        "            nn.ReLU(),\n",
        "            nn.MaxPool2d(kernel_size=2, stride=2),\n",
        "        )\n",
        "        self.classifier = nn.Sequential(\n",
        "            nn.Flatten(),\n",
        "            nn.Linear(128 * 28 * 28, 512), # Adjust the input size based on your image dimensions after pooling\n",
        "            nn.ReLU(),\n",
        "            nn.Dropout(0.5),\n",
        "            nn.Linear(512, num_classes)\n",
        "        )\n",
        "\n",
        "    def forward(self, x):\n",
        "        x = self.features(x)\n",
        "        x = self.classifier(x)\n",
        "        return x\n",
        "\n",
        "# Create an instance of the SimpleCNN model\n",
        "model = SimpleCNN(num_classes=2)\n",
        "\n",
        "\n",
        "# Move the model to the device\n",
        "model = model.to(device)\n",
        "\n",
        "print(\"Custom SimpleCNN model loaded for binary classification.\")"
      ],
      "execution_count": 5,
      "outputs": [
        {
          "output_type": "stream",
          "name": "stdout",
          "text": [
            "Using device: cuda\n",
            "Custom SimpleCNN model loaded for binary classification.\n"
          ]
        }
      ]
    },
    {
      "cell_type": "code",
      "metadata": {
        "id": "217cf320",
        "colab": {
          "base_uri": "https://localhost:8080/"
        },
        "outputId": "16271462-4e04-47ec-82a7-205d0224c17f"
      },
      "source": [
        "import torch.optim as optim\n",
        "\n",
        "# Define the loss function\n",
        "loss_fn = nn.CrossEntropyLoss()\n",
        "\n",
        "# Define the optimizer (SGD)\n",
        "optimizer = optim.SGD(model.parameters(), lr=0.001, momentum=0.9, weight_decay=0.0001)\n",
        "\n",
        "print(\"Loss function (CrossEntropyLoss) and Optimizer (SGD) defined.\")"
      ],
      "execution_count": 6,
      "outputs": [
        {
          "output_type": "stream",
          "name": "stdout",
          "text": [
            "Loss function (CrossEntropyLoss) and Optimizer (SGD) defined.\n"
          ]
        }
      ]
    },
    {
      "cell_type": "code",
      "metadata": {
        "id": "4f90b3d0",
        "colab": {
          "base_uri": "https://localhost:8080/"
        },
        "outputId": "e8a37364-45cc-4961-bcb2-282c438be00c"
      },
      "source": [
        "from sklearn.metrics import accuracy_score, precision_score, recall_score, f1_score\n",
        "import torch\n",
        "\n",
        "def train_loop(dataloader, model, loss_fn, optimizer):\n",
        "    size = len(dataloader.dataset)\n",
        "    model.train() # Set the model to training mode\n",
        "    train_loss, correct = 0, 0\n",
        "    for batch, (X, y) in enumerate(dataloader):\n",
        "        # Move data to the appropriate device\n",
        "        X, y = X.to(device), y.to(device)\n",
        "\n",
        "        # Compute prediction (forward pass)\n",
        "        pred = model(X)\n",
        "\n",
        "        # loss function\n",
        "        loss = loss_fn(pred, y)\n",
        "\n",
        "        # Backpropagation\n",
        "        optimizer.zero_grad()\n",
        "        loss.backward()\n",
        "        optimizer.step()\n",
        "\n",
        "        # Track loss and accuracy\n",
        "        train_loss += loss.item()\n",
        "        correct += (pred.argmax(1) == y).type(torch.float).sum().item()\n",
        "\n",
        "        if batch % 100 == 0:\n",
        "            loss, current = loss.item(), (batch + 1) * len(X)\n",
        "            print(f\"loss: {loss:>7f}  [{current:>5d}/{size:>5d}]\")\n",
        "\n",
        "    train_loss /= len(dataloader)\n",
        "    correct /= size\n",
        "    print(f\"Train Error: \\n Accuracy: {(100*correct):>0.1f}%, Avg loss: {train_loss:>8f} \\n\")\n",
        "\n",
        "\n",
        "def test_loop(dataloader, model, loss_fn):\n",
        "    size = len(dataloader.dataset)\n",
        "    num_batches = len(dataloader)\n",
        "    model.eval() # Set the model to evaluation mode\n",
        "    test_loss, correct = 0, 0\n",
        "    y_true = []\n",
        "    y_pred = []\n",
        "\n",
        "    with torch.inference_mode(): # Disable gradient calculation for evaluation\n",
        "        for X, y in dataloader:\n",
        "            # Move data to the appropriate device\n",
        "            X, y = X.to(device), y.to(device)\n",
        "\n",
        "            pred = model(X)\n",
        "            test_loss += loss_fn(pred, y).item()\n",
        "            correct += (pred.argmax(1) == y).type(torch.float).sum().item()\n",
        "\n",
        "            y_true.extend(y.cpu().numpy())\n",
        "            y_pred.extend(pred.argmax(1).cpu().numpy())\n",
        "\n",
        "    test_loss /= num_batches\n",
        "    correct /= size\n",
        "\n",
        "    # Calculate metrics\n",
        "    accuracy = accuracy_score(y_true, y_pred)\n",
        "    precision = precision_score(y_true, y_pred, average='weighted')\n",
        "    recall = recall_score(y_true, y_pred, average='weighted')\n",
        "    f1 = f1_score(y_true, y_pred, average='weighted')\n",
        "\n",
        "    print(f\"Test Error: \\n Accuracy: {(100*correct):>0.1f}%, Avg loss: {test_loss:>8f} \\n\")\n",
        "    print(f\"Accuracy: {accuracy:.4f}\")\n",
        "    print(f\"Precision: {precision:.4f}\")\n",
        "    print(f\"Recall: {recall:.4f}\")\n",
        "    print(f\"F1-score: {f1:.4f}\")\n",
        "\n",
        "    return test_loss # Return the average test loss\n",
        "\n",
        "print(\"Train and test loop functions defined.\")"
      ],
      "execution_count": 7,
      "outputs": [
        {
          "output_type": "stream",
          "name": "stdout",
          "text": [
            "Train and test loop functions defined.\n"
          ]
        }
      ]
    },
    {
      "cell_type": "code",
      "source": [
        "# Create DataLoaders for the training and testing datasets\n",
        "train_dataloader = DataLoader(train_dataset, batch_size=32, shuffle=True)\n",
        "test_dataloader = DataLoader(test_dataset, batch_size=32, shuffle=False) # No need to shuffle test data\n",
        "\n",
        "epochs = 10 # You can adjust the number of epochs\n",
        "\n",
        "for t in range(epochs):\n",
        "    print(f\"Epoch {t+1}\\n-------------------------------\")\n",
        "    train_loop(train_dataloader, model, loss_fn, optimizer)\n",
        "    test_loop(test_dataloader, model, loss_fn)\n",
        "print(\"Done!\")"
      ],
      "metadata": {
        "id": "QObo61OA2Mpt",
        "colab": {
          "base_uri": "https://localhost:8080/"
        },
        "outputId": "775730b7-3c3e-4d1c-87e6-aed3e46a6297"
      },
      "execution_count": 13,
      "outputs": [
        {
          "output_type": "stream",
          "name": "stdout",
          "text": [
            "Epoch 1\n",
            "-------------------------------\n",
            "loss: 0.206033  [   32/ 2400]\n",
            "Train Error: \n",
            " Accuracy: 92.5%, Avg loss: 0.197031 \n",
            "\n",
            "Test Error: \n",
            " Accuracy: 93.3%, Avg loss: 0.169850 \n",
            "\n",
            "Accuracy: 0.9333\n",
            "Precision: 0.9352\n",
            "Recall: 0.9333\n",
            "F1-score: 0.9332\n",
            "Epoch 2\n",
            "-------------------------------\n",
            "loss: 0.407030  [   32/ 2400]\n",
            "Train Error: \n",
            " Accuracy: 92.5%, Avg loss: 0.195696 \n",
            "\n",
            "Test Error: \n",
            " Accuracy: 94.8%, Avg loss: 0.156419 \n",
            "\n",
            "Accuracy: 0.9483\n",
            "Precision: 0.9511\n",
            "Recall: 0.9483\n",
            "F1-score: 0.9483\n",
            "Epoch 3\n",
            "-------------------------------\n",
            "loss: 0.232007  [   32/ 2400]\n",
            "Train Error: \n",
            " Accuracy: 93.8%, Avg loss: 0.166462 \n",
            "\n",
            "Test Error: \n",
            " Accuracy: 95.7%, Avg loss: 0.134998 \n",
            "\n",
            "Accuracy: 0.9567\n",
            "Precision: 0.9580\n",
            "Recall: 0.9567\n",
            "F1-score: 0.9567\n",
            "Epoch 4\n",
            "-------------------------------\n",
            "loss: 0.061022  [   32/ 2400]\n",
            "Train Error: \n",
            " Accuracy: 94.4%, Avg loss: 0.159003 \n",
            "\n",
            "Test Error: \n",
            " Accuracy: 95.7%, Avg loss: 0.124572 \n",
            "\n",
            "Accuracy: 0.9567\n",
            "Precision: 0.9567\n",
            "Recall: 0.9567\n",
            "F1-score: 0.9567\n",
            "Epoch 5\n",
            "-------------------------------\n",
            "loss: 0.099601  [   32/ 2400]\n",
            "Train Error: \n",
            " Accuracy: 94.0%, Avg loss: 0.159688 \n",
            "\n",
            "Test Error: \n",
            " Accuracy: 95.3%, Avg loss: 0.127460 \n",
            "\n",
            "Accuracy: 0.9533\n",
            "Precision: 0.9537\n",
            "Recall: 0.9533\n",
            "F1-score: 0.9533\n",
            "Epoch 6\n",
            "-------------------------------\n",
            "loss: 0.090492  [   32/ 2400]\n",
            "Train Error: \n",
            " Accuracy: 95.4%, Avg loss: 0.140198 \n",
            "\n",
            "Test Error: \n",
            " Accuracy: 94.5%, Avg loss: 0.148241 \n",
            "\n",
            "Accuracy: 0.9450\n",
            "Precision: 0.9487\n",
            "Recall: 0.9450\n",
            "F1-score: 0.9449\n",
            "Epoch 7\n",
            "-------------------------------\n",
            "loss: 0.178933  [   32/ 2400]\n",
            "Train Error: \n",
            " Accuracy: 95.3%, Avg loss: 0.135163 \n",
            "\n",
            "Test Error: \n",
            " Accuracy: 96.2%, Avg loss: 0.112439 \n",
            "\n",
            "Accuracy: 0.9617\n",
            "Precision: 0.9621\n",
            "Recall: 0.9617\n",
            "F1-score: 0.9616\n",
            "Epoch 8\n",
            "-------------------------------\n",
            "loss: 0.129575  [   32/ 2400]\n",
            "Train Error: \n",
            " Accuracy: 96.0%, Avg loss: 0.119519 \n",
            "\n",
            "Test Error: \n",
            " Accuracy: 96.7%, Avg loss: 0.105157 \n",
            "\n",
            "Accuracy: 0.9667\n",
            "Precision: 0.9668\n",
            "Recall: 0.9667\n",
            "F1-score: 0.9667\n",
            "Epoch 9\n",
            "-------------------------------\n",
            "loss: 0.241067  [   32/ 2400]\n",
            "Train Error: \n",
            " Accuracy: 96.4%, Avg loss: 0.101355 \n",
            "\n",
            "Test Error: \n",
            " Accuracy: 96.2%, Avg loss: 0.103200 \n",
            "\n",
            "Accuracy: 0.9617\n",
            "Precision: 0.9619\n",
            "Recall: 0.9617\n",
            "F1-score: 0.9617\n",
            "Epoch 10\n",
            "-------------------------------\n",
            "loss: 0.110987  [   32/ 2400]\n",
            "Train Error: \n",
            " Accuracy: 96.4%, Avg loss: 0.104133 \n",
            "\n",
            "Test Error: \n",
            " Accuracy: 97.2%, Avg loss: 0.081505 \n",
            "\n",
            "Accuracy: 0.9717\n",
            "Precision: 0.9718\n",
            "Recall: 0.9717\n",
            "F1-score: 0.9717\n",
            "Done!\n"
          ]
        }
      ]
    },
    {
      "cell_type": "code",
      "metadata": {
        "id": "f77216eb",
        "colab": {
          "base_uri": "https://localhost:8080/"
        },
        "outputId": "e1350154-4c44-4a15-c06c-cc20e43ab2e8"
      },
      "source": [
        "from sklearn.metrics import accuracy_score, precision_score, recall_score, f1_score\n",
        "\n",
        "# Assuming you have y_true and y_pred from your test loop\n",
        "# y_true are the true labels and y_pred are the model's predictions\n",
        "\n",
        "# Example: Using the predictions from the last test loop\n",
        "# Note: These are the predictions from the last epoch of model_2 training\n",
        "# You might want to run a separate evaluation after training is complete\n",
        "\n",
        "# Correctly get the true labels from the test_dataset (which is a Subset)\n",
        "y_true = [test_dataset.dataset.labels[i] for i in test_dataset.indices]\n",
        "\n",
        "y_pred = []\n",
        "model.eval()\n",
        "with torch.no_grad():\n",
        "    for X, y in test_dataloader:\n",
        "        X = X.to(device)\n",
        "        pred = model(X)\n",
        "        y_pred.extend(pred.argmax(1).cpu().numpy())\n",
        "\n",
        "# Calculate metrics\n",
        "accuracy = accuracy_score(y_true, y_pred)\n",
        "precision = precision_score(y_true, y_pred, average='weighted') # Use 'weighted' for multiclass\n",
        "recall = recall_score(y_true, y_pred, average='weighted')\n",
        "f1 = f1_score(y_true, y_pred, average='weighted')\n",
        "\n",
        "print(f\"Accuracy: {accuracy:.4f}\")\n",
        "print(f\"Precision: {precision:.4f}\")\n",
        "print(f\"Recall: {recall:.4f}\")\n",
        "print(f\"F1-score: {f1:.4f}\")\n",
        "\n"
      ],
      "execution_count": 14,
      "outputs": [
        {
          "output_type": "stream",
          "name": "stdout",
          "text": [
            "Accuracy: 0.9717\n",
            "Precision: 0.9717\n",
            "Recall: 0.9717\n",
            "F1-score: 0.9717\n"
          ]
        }
      ]
    },
    {
      "cell_type": "code",
      "source": [
        "# See if torchmetrics exists, if not, install it\n",
        "try:\n",
        "    import torchmetrics, mlxtend\n",
        "    print(f\"mlxtend version: {mlxtend.__version__}\")\n",
        "    assert int(mlxtend.__version__.split(\".\")[1]) >= 19, \"mlxtend verison should be 0.19.0 or higher\"\n",
        "except:\n",
        "    !pip install -q torchmetrics -U mlxtend # <- Note: If you're using Google Colab, this may require restarting the runtime\n",
        "    import torchmetrics, mlxtend\n",
        "    print(f\"mlxtend version: {mlxtend.__version__}\")"
      ],
      "metadata": {
        "id": "tQgHFMpt-42j",
        "colab": {
          "base_uri": "https://localhost:8080/"
        },
        "outputId": "5c086ed7-7e92-4de6-8b42-0aae49264f13"
      },
      "execution_count": 10,
      "outputs": [
        {
          "output_type": "stream",
          "name": "stdout",
          "text": [
            "\u001b[2K   \u001b[90m━━━━━━━━━━━━━━━━━━━━━━━━━━━━━━━━━━━━━━━━\u001b[0m \u001b[32m983.0/983.0 kB\u001b[0m \u001b[31m21.2 MB/s\u001b[0m eta \u001b[36m0:00:00\u001b[0m\n",
            "\u001b[2K   \u001b[90m━━━━━━━━━━━━━━━━━━━━━━━━━━━━━━━━━━━━━━━━\u001b[0m \u001b[32m363.4/363.4 MB\u001b[0m \u001b[31m4.7 MB/s\u001b[0m eta \u001b[36m0:00:00\u001b[0m\n",
            "\u001b[2K   \u001b[90m━━━━━━━━━━━━━━━━━━━━━━━━━━━━━━━━━━━━━━━━\u001b[0m \u001b[32m13.8/13.8 MB\u001b[0m \u001b[31m74.2 MB/s\u001b[0m eta \u001b[36m0:00:00\u001b[0m\n",
            "\u001b[2K   \u001b[90m━━━━━━━━━━━━━━━━━━━━━━━━━━━━━━━━━━━━━━━━\u001b[0m \u001b[32m24.6/24.6 MB\u001b[0m \u001b[31m57.7 MB/s\u001b[0m eta \u001b[36m0:00:00\u001b[0m\n",
            "\u001b[2K   \u001b[90m━━━━━━━━━━━━━━━━━━━━━━━━━━━━━━━━━━━━━━━━\u001b[0m \u001b[32m883.7/883.7 kB\u001b[0m \u001b[31m44.3 MB/s\u001b[0m eta \u001b[36m0:00:00\u001b[0m\n",
            "\u001b[2K   \u001b[90m━━━━━━━━━━━━━━━━━━━━━━━━━━━━━━━━━━━━━━━━\u001b[0m \u001b[32m664.8/664.8 MB\u001b[0m \u001b[31m2.7 MB/s\u001b[0m eta \u001b[36m0:00:00\u001b[0m\n",
            "\u001b[2K   \u001b[90m━━━━━━━━━━━━━━━━━━━━━━━━━━━━━━━━━━━━━━━━\u001b[0m \u001b[32m211.5/211.5 MB\u001b[0m \u001b[31m6.3 MB/s\u001b[0m eta \u001b[36m0:00:00\u001b[0m\n",
            "\u001b[2K   \u001b[90m━━━━━━━━━━━━━━━━━━━━━━━━━━━━━━━━━━━━━━━━\u001b[0m \u001b[32m56.3/56.3 MB\u001b[0m \u001b[31m14.2 MB/s\u001b[0m eta \u001b[36m0:00:00\u001b[0m\n",
            "\u001b[2K   \u001b[90m━━━━━━━━━━━━━━━━━━━━━━━━━━━━━━━━━━━━━━━━\u001b[0m \u001b[32m127.9/127.9 MB\u001b[0m \u001b[31m7.6 MB/s\u001b[0m eta \u001b[36m0:00:00\u001b[0m\n",
            "\u001b[2K   \u001b[90m━━━━━━━━━━━━━━━━━━━━━━━━━━━━━━━━━━━━━━━━\u001b[0m \u001b[32m207.5/207.5 MB\u001b[0m \u001b[31m6.5 MB/s\u001b[0m eta \u001b[36m0:00:00\u001b[0m\n",
            "\u001b[2K   \u001b[90m━━━━━━━━━━━━━━━━━━━━━━━━━━━━━━━━━━━━━━━━\u001b[0m \u001b[32m188.7/188.7 MB\u001b[0m \u001b[31m7.4 MB/s\u001b[0m eta \u001b[36m0:00:00\u001b[0m\n",
            "\u001b[2K   \u001b[90m━━━━━━━━━━━━━━━━━━━━━━━━━━━━━━━━━━━━━━━━\u001b[0m \u001b[32m21.1/21.1 MB\u001b[0m \u001b[31m68.9 MB/s\u001b[0m eta \u001b[36m0:00:00\u001b[0m\n",
            "\u001b[?25hmlxtend version: 0.23.4\n"
          ]
        }
      ]
    },
    {
      "cell_type": "code",
      "source": [
        "# Import mlxtend upgraded version\n",
        "import mlxtend\n",
        "print(mlxtend.__version__)\n",
        "assert int(mlxtend.__version__.split(\".\")[1]) >= 19 # should be version 0.19.0 or higher"
      ],
      "metadata": {
        "id": "MI1MOYXc-4xK",
        "colab": {
          "base_uri": "https://localhost:8080/"
        },
        "outputId": "ac4f98fb-2e57-4314-a1ab-c381190549d1"
      },
      "execution_count": 11,
      "outputs": [
        {
          "output_type": "stream",
          "name": "stdout",
          "text": [
            "0.23.4\n"
          ]
        }
      ]
    },
    {
      "cell_type": "code",
      "source": [
        "from torchmetrics import ConfusionMatrix\n",
        "from mlxtend.plotting import plot_confusion_matrix\n",
        "import numpy as np\n",
        "\n",
        "# y_pred is already calculated in the previous cell\n",
        "\n",
        "# Define class names based on your problem (assuming 0: negative, 1: positive)\n",
        "class_names = ['negative', 'positive']\n",
        "\n",
        "# 2. Setup confusion matrix instance and compare predictions to targets\n",
        "# Convert y_true and y_pred to tensors\n",
        "y_true_tensor = torch.tensor(y_true)\n",
        "y_pred_tensor = torch.tensor(y_pred)\n",
        "\n",
        "confmat = ConfusionMatrix(num_classes=len(class_names), task='binary') # Changed task to 'binary' for binary classification\n",
        "confmat_tensor = confmat(preds=y_pred_tensor,\n",
        "                         target=y_true_tensor)\n",
        "\n",
        "# 3. Plot the confusion matrix\n",
        "fig, ax = plot_confusion_matrix(\n",
        "    conf_mat=confmat_tensor.numpy(), # matplotlib likes working with NumPy\n",
        "    class_names=class_names, # turn the row and column labels into class names\n",
        "    figsize=(10, 7)\n",
        ");"
      ],
      "metadata": {
        "id": "yBT0gVd4-4s0",
        "colab": {
          "base_uri": "https://localhost:8080/",
          "height": 658
        },
        "outputId": "aa9a8e25-6c79-4191-ad97-8050592147d8"
      },
      "execution_count": 15,
      "outputs": [
        {
          "output_type": "display_data",
          "data": {
            "text/plain": [
              "<Figure size 1000x700 with 1 Axes>"
            ],
            "image/png": "[encoded data removed]"
          },
          "metadata": {}
        }
      ]
    }
  ]
}