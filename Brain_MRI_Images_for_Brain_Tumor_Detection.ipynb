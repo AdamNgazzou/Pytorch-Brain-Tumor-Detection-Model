{
  "nbformat": 4,
  "nbformat_minor": 0,
  "metadata": {
    "colab": {
      "provenance": []
    },
    "kernelspec": {
      "name": "python3",
      "display_name": "Python 3"
    },
    "language_info": {
      "name": "python"
    }
  },
  "cells": [
    {
      "cell_type": "code",
      "metadata": {
        "colab": {
          "base_uri": "https://localhost:8080/"
        },
        "id": "7f1efae1",
        "outputId": "298a144d-499b-4bee-fdcd-780d961012d0"
      },
      "source": [
        "import torch\n",
        "from torch import nn\n",
        "\n",
        "# torch vision\n",
        "import torchvision\n",
        "from torchvision import datasets\n",
        "from torchvision.transforms import ToTensor\n",
        "\n",
        "# matplotlib\n",
        "import matplotlib.pyplot as plt\n",
        "\n",
        "# Note: your PyTorch version shouldn't be lower than 1.10.0 and torchvision version shouldn't be lower than 0.11\n",
        "print(f\"PyTorch version: {torch.__version__}\\ntorchvision version: {torchvision.__version__}\")"
      ],
      "execution_count": 1,
      "outputs": [
        {
          "output_type": "stream",
          "name": "stdout",
          "text": [
            "PyTorch version: 2.6.0+cu124\n",
            "torchvision version: 0.21.0+cu124\n"
          ]
        }
      ]
    },
    {
      "cell_type": "code",
      "source": [
        "import os\n",
        "from torchvision import transforms\n",
        "from torch.utils.data import Dataset, DataLoader\n",
        "from PIL import Image\n",
        "\n",
        "# Define the base directory containing the subfolders\n",
        "base_data_dir = 'brain_mri_scan_images'\n",
        "\n",
        "# Define the transformations to apply to the images\n",
        "data_transforms = transforms.Compose([\n",
        "    transforms.Resize((224, 224)),  # Resize images to a consistent size\n",
        "    transforms.RandomRotation(degrees=15), # Add random rotation\n",
        "    transforms.RandomHorizontalFlip(p=0.5), # Add random horizontal flip\n",
        "    transforms.ColorJitter(brightness=0.1, contrast=0.1), # Add random brightness and contrast\n",
        "    transforms.ToTensor(),  # Convert images to tensors\n",
        "    transforms.Normalize([0.485, 0.456, 0.406], [0.229, 0.224, 0.225])  # Normalize the image data\n",
        "])\n",
        "\n",
        "# Create a custom dataset class\n",
        "class BrainMRIDataset(Dataset):\n",
        "    def __init__(self, base_data_dir, transform=None):\n",
        "        self.base_data_dir = base_data_dir\n",
        "        self.transform = transform\n",
        "        self.image_files = []\n",
        "        self.labels = []\n",
        "\n",
        "        # List subdirectories (positive and negative)\n",
        "        for label, subfolder in enumerate(['negative', 'positive']):\n",
        "            subfolder_path = os.path.join(base_data_dir, subfolder)\n",
        "            if os.path.exists(subfolder_path):\n",
        "                for f in os.listdir(subfolder_path):\n",
        "                    f_path = os.path.join(subfolder_path, f)\n",
        "                    if os.path.isfile(f_path):\n",
        "                        self.image_files.append(f_path)\n",
        "                        self.labels.append(label)\n",
        "\n",
        "\n",
        "    def __len__(self):\n",
        "        return len(self.image_files)\n",
        "\n",
        "    def __getitem__(self, idx):\n",
        "        img_path = self.image_files[idx]\n",
        "        image = Image.open(img_path).convert('RGB') # Ensure image is in RGB format\n",
        "        label = self.labels[idx]\n",
        "\n",
        "        if self.transform:\n",
        "            image = self.transform(image)\n",
        "\n",
        "        return image, label\n",
        "\n",
        "# Create an instance of the dataset\n",
        "brain_mri_dataset = BrainMRIDataset(base_data_dir, transform=data_transforms)\n",
        "\n",
        "# Create a data loader\n",
        "dataloader = DataLoader(brain_mri_dataset, batch_size=32, shuffle=True)\n",
        "\n",
        "print(f\"Number of images found: {len(brain_mri_dataset)}\")\n",
        "# You can now iterate through the dataloader to get batches of images and labels\n",
        "# for images, labels in dataloader:\n",
        "#     print(images.shape, labels.shape)\n",
        "#     break # Example: process one batch"
      ],
      "metadata": {
        "colab": {
          "base_uri": "https://localhost:8080/"
        },
        "id": "V-qlyzJTyVWv",
        "outputId": "f6dadaf2-a337-41d3-bf63-f68d980af867"
      },
      "execution_count": 2,
      "outputs": [
        {
          "output_type": "stream",
          "name": "stdout",
          "text": [
            "Number of images found: 227\n"
          ]
        }
      ]
    },
    {
      "cell_type": "code",
      "source": [
        "from torch.utils.data import random_split\n",
        "\n",
        "# Define the split ratios\n",
        "train_size = int(0.8 * len(brain_mri_dataset))\n",
        "test_size = len(brain_mri_dataset) - train_size\n",
        "\n",
        "# Split the dataset\n",
        "train_dataset, test_dataset = random_split(brain_mri_dataset, [train_size, test_size])\n",
        "\n",
        "print(f\"Training dataset size: {len(train_dataset)}\")\n",
        "print(f\"Testing dataset size: {len(test_dataset)}\")"
      ],
      "metadata": {
        "id": "Ha1LZWr8zJ4m",
        "colab": {
          "base_uri": "https://localhost:8080/"
        },
        "outputId": "8ab5f531-bd0d-46b5-d68c-d4e46ff266d1"
      },
      "execution_count": 3,
      "outputs": [
        {
          "output_type": "stream",
          "name": "stdout",
          "text": [
            "Training dataset size: 181\n",
            "Testing dataset size: 46\n"
          ]
        }
      ]
    },
    {
      "cell_type": "code",
      "metadata": {
        "id": "63110f2b",
        "colab": {
          "base_uri": "https://localhost:8080/"
        },
        "outputId": "2ea4da98-2b34-4280-d331-03322aba413c"
      },
      "source": [
        "import torch\n",
        "import torch.nn as nn\n",
        "import torchvision.models as models\n",
        "\n",
        "# Define the device to use (GPU if available, otherwise CPU)\n",
        "device = torch.device(\"cuda\" if torch.cuda.is_available() else \"cpu\")\n",
        "print(f\"Using device: {device}\")\n",
        "\n",
        "# Load a pre-trained ResNet18 model\n",
        "model = models.resnet18(weights=models.ResNet18_Weights.DEFAULT)\n",
        "\n",
        "# Modify the final fully connected layer for binary classification with Dropout\n",
        "num_ftrs = model.fc.in_features\n",
        "# Replace the final fc layer with a Sequential model that includes Dropout and Linear layer\n",
        "model.fc = nn.Sequential(\n",
        "    nn.Dropout(0.5), # Add dropout layer with dropout probability of 0.5\n",
        "    nn.Linear(num_ftrs, 2) # 2 output classes (positive/negative)\n",
        ")\n",
        "\n",
        "\n",
        "# Move the model to the device\n",
        "model = model.to(device)\n",
        "\n",
        "print(\"Pre-trained ResNet18 model loaded and modified for binary classification with Dropout.\")"
      ],
      "execution_count": 4,
      "outputs": [
        {
          "output_type": "stream",
          "name": "stdout",
          "text": [
            "Using device: cpu\n",
            "Pre-trained ResNet18 model loaded and modified for binary classification with Dropout.\n"
          ]
        }
      ]
    },
    {
      "cell_type": "code",
      "source": [],
      "metadata": {
        "id": "fLxjU6SO0mm-"
      },
      "execution_count": 4,
      "outputs": []
    },
    {
      "cell_type": "code",
      "metadata": {
        "id": "217cf320",
        "colab": {
          "base_uri": "https://localhost:8080/"
        },
        "outputId": "3c8a3a7a-5bb9-4d52-bfce-228df56e1f1c"
      },
      "source": [
        "import torch.optim as optim\n",
        "\n",
        "# Define the loss function\n",
        "loss_fn = nn.CrossEntropyLoss()\n",
        "\n",
        "# Define the optimizer (SGD)\n",
        "optimizer = optim.SGD(model.parameters(), lr=0.001, momentum=0.9, weight_decay=0.0001)\n",
        "\n",
        "print(\"Loss function (CrossEntropyLoss) and Optimizer (SGD) defined.\")"
      ],
      "execution_count": 5,
      "outputs": [
        {
          "output_type": "stream",
          "name": "stdout",
          "text": [
            "Loss function (CrossEntropyLoss) and Optimizer (SGD) defined.\n"
          ]
        }
      ]
    },
    {
      "cell_type": "code",
      "source": [],
      "metadata": {
        "id": "9c3dr6c8056o"
      },
      "execution_count": 5,
      "outputs": []
    },
    {
      "cell_type": "code",
      "metadata": {
        "id": "4f90b3d0",
        "colab": {
          "base_uri": "https://localhost:8080/"
        },
        "outputId": "e36831dd-5c18-4d81-91da-bc93f7d28cdc"
      },
      "source": [
        "from sklearn.metrics import accuracy_score, precision_score, recall_score, f1_score\n",
        "import torch\n",
        "\n",
        "def train_loop(dataloader, model, loss_fn, optimizer):\n",
        "    size = len(dataloader.dataset)\n",
        "    model.train() # Set the model to training mode\n",
        "    train_loss, correct = 0, 0\n",
        "    for batch, (X, y) in enumerate(dataloader):\n",
        "        # Move data to the appropriate device\n",
        "        X, y = X.to(device), y.to(device)\n",
        "\n",
        "        # Compute prediction (forward pass)\n",
        "        pred = model(X)\n",
        "\n",
        "        # loss function\n",
        "        loss = loss_fn(pred, y)\n",
        "\n",
        "        # Backpropagation\n",
        "        optimizer.zero_grad()\n",
        "        loss.backward()\n",
        "        optimizer.step()\n",
        "\n",
        "        # Track loss and accuracy\n",
        "        train_loss += loss.item()\n",
        "        correct += (pred.argmax(1) == y).type(torch.float).sum().item()\n",
        "\n",
        "        if batch % 100 == 0:\n",
        "            loss, current = loss.item(), (batch + 1) * len(X)\n",
        "            print(f\"loss: {loss:>7f}  [{current:>5d}/{size:>5d}]\")\n",
        "\n",
        "    train_loss /= len(dataloader)\n",
        "    correct /= size\n",
        "    print(f\"Train Error: \\n Accuracy: {(100*correct):>0.1f}%, Avg loss: {train_loss:>8f} \\n\")\n",
        "\n",
        "\n",
        "def test_loop(dataloader, model, loss_fn):\n",
        "    size = len(dataloader.dataset)\n",
        "    num_batches = len(dataloader)\n",
        "    model.eval() # Set the model to evaluation mode\n",
        "    test_loss, correct = 0, 0\n",
        "    y_true = []\n",
        "    y_pred = []\n",
        "\n",
        "    with torch.inference_mode(): # Disable gradient calculation for evaluation\n",
        "        for X, y in dataloader:\n",
        "            # Move data to the appropriate device\n",
        "            X, y = X.to(device), y.to(device)\n",
        "\n",
        "            pred = model(X)\n",
        "            test_loss += loss_fn(pred, y).item()\n",
        "            correct += (pred.argmax(1) == y).type(torch.float).sum().item()\n",
        "\n",
        "            y_true.extend(y.cpu().numpy())\n",
        "            y_pred.extend(pred.argmax(1).cpu().numpy())\n",
        "\n",
        "    test_loss /= num_batches\n",
        "    correct /= size\n",
        "\n",
        "    # Calculate metrics\n",
        "    accuracy = accuracy_score(y_true, y_pred)\n",
        "    precision = precision_score(y_true, y_pred, average='weighted')\n",
        "    recall = recall_score(y_true, y_pred, average='weighted')\n",
        "    f1 = f1_score(y_true, y_pred, average='weighted')\n",
        "\n",
        "    print(f\"Test Error: \\n Accuracy: {(100*correct):>0.1f}%, Avg loss: {test_loss:>8f} \\n\")\n",
        "    print(f\"Accuracy: {accuracy:.4f}\")\n",
        "    print(f\"Precision: {precision:.4f}\")\n",
        "    print(f\"Recall: {recall:.4f}\")\n",
        "    print(f\"F1-score: {f1:.4f}\")\n",
        "\n",
        "    return test_loss # Return the average test loss\n",
        "\n",
        "print(\"Train and test loop functions defined.\")"
      ],
      "execution_count": 8,
      "outputs": [
        {
          "output_type": "stream",
          "name": "stdout",
          "text": [
            "Train and test loop functions defined.\n"
          ]
        }
      ]
    },
    {
      "cell_type": "code",
      "source": [
        "# Create DataLoaders for the training and testing datasets\n",
        "train_dataloader = DataLoader(train_dataset, batch_size=32, shuffle=True)\n",
        "test_dataloader = DataLoader(test_dataset, batch_size=32, shuffle=False) # No need to shuffle test data\n",
        "\n",
        "epochs = 10 # You can adjust the number of epochs\n",
        "\n",
        "for t in range(epochs):\n",
        "    print(f\"Epoch {t+1}\\n-------------------------------\")\n",
        "    train_loop(train_dataloader, model, loss_fn, optimizer)\n",
        "    test_loop(test_dataloader, model, loss_fn)\n",
        "print(\"Done!\")"
      ],
      "metadata": {
        "id": "QObo61OA2Mpt",
        "colab": {
          "base_uri": "https://localhost:8080/"
        },
        "outputId": "ed455c90-8e5e-46f3-d94a-9ba71cc1d15b"
      },
      "execution_count": 9,
      "outputs": [
        {
          "output_type": "stream",
          "name": "stdout",
          "text": [
            "Epoch 1\n",
            "-------------------------------\n",
            "loss: 0.624131  [   32/  181]\n",
            "Train Error: \n",
            " Accuracy: 64.1%, Avg loss: 0.635587 \n",
            "\n",
            "Test Error: \n",
            " Accuracy: 69.6%, Avg loss: 0.515139 \n",
            "\n",
            "Accuracy: 0.6957\n",
            "Precision: 0.7638\n",
            "Recall: 0.6957\n",
            "F1-score: 0.6690\n",
            "Epoch 2\n",
            "-------------------------------\n",
            "loss: 0.431661  [   32/  181]\n",
            "Train Error: \n",
            " Accuracy: 77.9%, Avg loss: 0.461035 \n",
            "\n",
            "Test Error: \n",
            " Accuracy: 84.8%, Avg loss: 0.359328 \n",
            "\n",
            "Accuracy: 0.8478\n",
            "Precision: 0.8482\n",
            "Recall: 0.8478\n",
            "F1-score: 0.8476\n",
            "Epoch 3\n",
            "-------------------------------\n",
            "loss: 0.391810  [   32/  181]\n",
            "Train Error: \n",
            " Accuracy: 77.9%, Avg loss: 0.437118 \n",
            "\n",
            "Test Error: \n",
            " Accuracy: 87.0%, Avg loss: 0.338946 \n",
            "\n",
            "Accuracy: 0.8696\n",
            "Precision: 0.8719\n",
            "Recall: 0.8696\n",
            "F1-score: 0.8691\n",
            "Epoch 4\n",
            "-------------------------------\n",
            "loss: 0.364183  [   32/  181]\n",
            "Train Error: \n",
            " Accuracy: 82.3%, Avg loss: 0.354343 \n",
            "\n",
            "Test Error: \n",
            " Accuracy: 80.4%, Avg loss: 0.267423 \n",
            "\n",
            "Accuracy: 0.8043\n",
            "Precision: 0.8335\n",
            "Recall: 0.8043\n",
            "F1-score: 0.7983\n",
            "Epoch 5\n",
            "-------------------------------\n",
            "loss: 0.321491  [   32/  181]\n",
            "Train Error: \n",
            " Accuracy: 85.6%, Avg loss: 0.300080 \n",
            "\n",
            "Test Error: \n",
            " Accuracy: 89.1%, Avg loss: 0.272062 \n",
            "\n",
            "Accuracy: 0.8913\n",
            "Precision: 0.8975\n",
            "Recall: 0.8913\n",
            "F1-score: 0.8905\n",
            "Epoch 6\n",
            "-------------------------------\n",
            "loss: 0.411453  [   32/  181]\n",
            "Train Error: \n",
            " Accuracy: 87.3%, Avg loss: 0.295030 \n",
            "\n",
            "Test Error: \n",
            " Accuracy: 89.1%, Avg loss: 0.219697 \n",
            "\n",
            "Accuracy: 0.8913\n",
            "Precision: 0.8922\n",
            "Recall: 0.8913\n",
            "F1-score: 0.8914\n",
            "Epoch 7\n",
            "-------------------------------\n",
            "loss: 0.222980  [   32/  181]\n",
            "Train Error: \n",
            " Accuracy: 89.0%, Avg loss: 0.249683 \n",
            "\n",
            "Test Error: \n",
            " Accuracy: 89.1%, Avg loss: 0.216335 \n",
            "\n",
            "Accuracy: 0.8913\n",
            "Precision: 0.8918\n",
            "Recall: 0.8913\n",
            "F1-score: 0.8911\n",
            "Epoch 8\n",
            "-------------------------------\n",
            "loss: 0.205272  [   32/  181]\n",
            "Train Error: \n",
            " Accuracy: 93.9%, Avg loss: 0.190279 \n",
            "\n",
            "Test Error: \n",
            " Accuracy: 95.7%, Avg loss: 0.211613 \n",
            "\n",
            "Accuracy: 0.9565\n",
            "Precision: 0.9599\n",
            "Recall: 0.9565\n",
            "F1-score: 0.9564\n",
            "Epoch 9\n",
            "-------------------------------\n",
            "loss: 0.153406  [   32/  181]\n",
            "Train Error: \n",
            " Accuracy: 93.4%, Avg loss: 0.181111 \n",
            "\n",
            "Test Error: \n",
            " Accuracy: 87.0%, Avg loss: 0.162089 \n",
            "\n",
            "Accuracy: 0.8696\n",
            "Precision: 0.8719\n",
            "Recall: 0.8696\n",
            "F1-score: 0.8691\n",
            "Epoch 10\n",
            "-------------------------------\n",
            "loss: 0.091688  [   32/  181]\n",
            "Train Error: \n",
            " Accuracy: 96.7%, Avg loss: 0.109191 \n",
            "\n",
            "Test Error: \n",
            " Accuracy: 93.5%, Avg loss: 0.155174 \n",
            "\n",
            "Accuracy: 0.9348\n",
            "Precision: 0.9355\n",
            "Recall: 0.9348\n",
            "F1-score: 0.9347\n",
            "Done!\n"
          ]
        }
      ]
    },
    {
      "cell_type": "code",
      "metadata": {
        "id": "f77216eb",
        "colab": {
          "base_uri": "https://localhost:8080/"
        },
        "outputId": "a56ce13a-1a78-4e1f-861e-98f53dc7e742"
      },
      "source": [
        "from sklearn.metrics import accuracy_score, precision_score, recall_score, f1_score\n",
        "\n",
        "# Assuming you have y_true and y_pred from your test loop\n",
        "# y_true are the true labels and y_pred are the model's predictions\n",
        "\n",
        "# Example: Using the predictions from the last test loop\n",
        "# Note: These are the predictions from the last epoch of model_2 training\n",
        "# You might want to run a separate evaluation after training is complete\n",
        "\n",
        "# Correctly get the true labels from the test_dataset (which is a Subset)\n",
        "y_true = [test_dataset.dataset.labels[i] for i in test_dataset.indices]\n",
        "\n",
        "y_pred = []\n",
        "model.eval()\n",
        "with torch.no_grad():\n",
        "    for X, y in test_dataloader:\n",
        "        X = X.to(device)\n",
        "        pred = model(X)\n",
        "        y_pred.extend(pred.argmax(1).cpu().numpy())\n",
        "\n",
        "# Calculate metrics\n",
        "accuracy = accuracy_score(y_true, y_pred)\n",
        "precision = precision_score(y_true, y_pred, average='weighted') # Use 'weighted' for multiclass\n",
        "recall = recall_score(y_true, y_pred, average='weighted')\n",
        "f1 = f1_score(y_true, y_pred, average='weighted')\n",
        "\n",
        "print(f\"Accuracy: {accuracy:.4f}\")\n",
        "print(f\"Precision: {precision:.4f}\")\n",
        "print(f\"Recall: {recall:.4f}\")\n",
        "print(f\"F1-score: {f1:.4f}\")\n",
        "\n"
      ],
      "execution_count": 13,
      "outputs": [
        {
          "output_type": "stream",
          "name": "stdout",
          "text": [
            "Accuracy: 0.9130\n",
            "Precision: 0.9159\n",
            "Recall: 0.9130\n",
            "F1-score: 0.9127\n"
          ]
        }
      ]
    },
    {
      "cell_type": "code",
      "source": [
        "# See if torchmetrics exists, if not, install it\n",
        "try:\n",
        "    import torchmetrics, mlxtend\n",
        "    print(f\"mlxtend version: {mlxtend.__version__}\")\n",
        "    assert int(mlxtend.__version__.split(\".\")[1]) >= 19, \"mlxtend verison should be 0.19.0 or higher\"\n",
        "except:\n",
        "    !pip install -q torchmetrics -U mlxtend # <- Note: If you're using Google Colab, this may require restarting the runtime\n",
        "    import torchmetrics, mlxtend\n",
        "    print(f\"mlxtend version: {mlxtend.__version__}\")"
      ],
      "metadata": {
        "id": "tQgHFMpt-42j",
        "colab": {
          "base_uri": "https://localhost:8080/"
        },
        "outputId": "da7069c7-f35a-4ee7-c6e9-f58609795d0b"
      },
      "execution_count": 14,
      "outputs": [
        {
          "output_type": "stream",
          "name": "stdout",
          "text": [
            "mlxtend version: 0.23.4\n"
          ]
        }
      ]
    },
    {
      "cell_type": "code",
      "source": [
        "# Import mlxtend upgraded version\n",
        "import mlxtend\n",
        "print(mlxtend.__version__)\n",
        "assert int(mlxtend.__version__.split(\".\")[1]) >= 19 # should be version 0.19.0 or higher"
      ],
      "metadata": {
        "id": "MI1MOYXc-4xK",
        "colab": {
          "base_uri": "https://localhost:8080/"
        },
        "outputId": "3e2b15c5-3ad5-4322-db47-e7a24ba482a9"
      },
      "execution_count": 11,
      "outputs": [
        {
          "output_type": "stream",
          "name": "stdout",
          "text": [
            "0.23.4\n"
          ]
        }
      ]
    },
    {
      "cell_type": "code",
      "source": [
        "from torchmetrics import ConfusionMatrix\n",
        "from mlxtend.plotting import plot_confusion_matrix\n",
        "import numpy as np\n",
        "\n",
        "# y_pred is already calculated in the previous cell\n",
        "\n",
        "# Define class names based on your problem (assuming 0: negative, 1: positive)\n",
        "class_names = ['negative', 'positive']\n",
        "\n",
        "# 2. Setup confusion matrix instance and compare predictions to targets\n",
        "# Convert y_true and y_pred to tensors\n",
        "y_true_tensor = torch.tensor(y_true)\n",
        "y_pred_tensor = torch.tensor(y_pred)\n",
        "\n",
        "confmat = ConfusionMatrix(num_classes=len(class_names), task='binary') # Changed task to 'binary' for binary classification\n",
        "confmat_tensor = confmat(preds=y_pred_tensor,\n",
        "                         target=y_true_tensor)\n",
        "\n",
        "# 3. Plot the confusion matrix\n",
        "fig, ax = plot_confusion_matrix(\n",
        "    conf_mat=confmat_tensor.numpy(), # matplotlib likes working with NumPy\n",
        "    class_names=class_names, # turn the row and column labels into class names\n",
        "    figsize=(10, 7)\n",
        ");"
      ],
      "metadata": {
        "id": "yBT0gVd4-4s0",
        "colab": {
          "base_uri": "https://localhost:8080/",
          "height": 658
        },
        "outputId": "472fb86b-20e0-4795-d46c-bec67000d650"
      },
      "execution_count": 15,
      "outputs": [
        {
          "output_type": "display_data",
          "data": {
            "text/plain": [
              "<Figure size 1000x700 with 1 Axes>"
            ],
            "image/png": "[encoded data removed]"
          },
          "metadata": {}
        }
      ]
    },
    {
      "cell_type": "code",
      "source": [],
      "metadata": {
        "id": "L96Vs1svMo5M"
      },
      "execution_count": null,
      "outputs": []
    }
  ]
}
