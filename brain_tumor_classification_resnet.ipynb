{
  "cells": [
    {
      "cell_type": "code",
      "execution_count": 1,
      "metadata": {
        "colab": {
          "base_uri": "https://localhost:8080/"
        },
        "id": "7f1efae1",
        "outputId": "77357512-aad8-4f45-ab84-123a6a46fdda"
      },
      "outputs": [
        {
          "name": "stdout",
          "output_type": "stream",
          "text": [
            "PyTorch version: 2.6.0+cu124\n",
            "torchvision version: 0.21.0+cu124\n"
          ]
        }
      ],
      "source": [
        "import torch\n",
        "from torch import nn\n",
        "\n",
        "# torch vision\n",
        "import torchvision\n",
        "from torchvision import datasets\n",
        "from torchvision.transforms import ToTensor\n",
        "\n",
        "# matplotlib\n",
        "import matplotlib.pyplot as plt\n",
        "\n",
        "# Note: your PyTorch version shouldn't be lower than 1.10.0 and torchvision version shouldn't be lower than 0.11\n",
        "print(f\"PyTorch version: {torch.__version__}\\ntorchvision version: {torchvision.__version__}\")"
      ]
    },
    {
      "cell_type": "code",
      "execution_count": 2,
      "metadata": {
        "colab": {
          "base_uri": "https://localhost:8080/"
        },
        "id": "V-qlyzJTyVWv",
        "outputId": "8c6129a7-df50-49fc-ab50-6127e509a4e4"
      },
      "outputs": [
        {
          "name": "stdout",
          "output_type": "stream",
          "text": [
            "Number of images found: 3000\n"
          ]
        }
      ],
      "source": [
        "import os\n",
        "from torchvision import transforms\n",
        "from torch.utils.data import Dataset, DataLoader\n",
        "from PIL import Image\n",
        "\n",
        "# Define the base directory containing the subfolders\n",
        "base_data_dir = 'brain_mri_scan_images'\n",
        "\n",
        "# Define the transformations to apply to the images\n",
        "data_transforms = transforms.Compose([\n",
        "    transforms.Resize((224, 224)),  # Resize images to a consistent size\n",
        "    transforms.RandomRotation(degrees=15), # Add random rotation\n",
        "    transforms.RandomHorizontalFlip(p=0.5), # Add random horizontal flip\n",
        "    transforms.ColorJitter(brightness=0.1, contrast=0.1), # Add random brightness and contrast\n",
        "    transforms.ToTensor(),  # Convert images to tensors\n",
        "    transforms.Normalize([0.485, 0.456, 0.406], [0.229, 0.224, 0.225])  # Normalize the image data\n",
        "])\n",
        "\n",
        "# Create a custom dataset class\n",
        "class BrainMRIDataset(Dataset):\n",
        "    def __init__(self, base_data_dir, transform=None):\n",
        "        self.base_data_dir = base_data_dir\n",
        "        self.transform = transform\n",
        "        self.image_files = []\n",
        "        self.labels = []\n",
        "\n",
        "        # List subdirectories (positive and negative)\n",
        "        for label, subfolder in enumerate(['negative', 'positive']):\n",
        "            subfolder_path = os.path.join(base_data_dir, subfolder)\n",
        "            if os.path.exists(subfolder_path):\n",
        "                for f in os.listdir(subfolder_path):\n",
        "                    f_path = os.path.join(subfolder_path, f)\n",
        "                    if os.path.isfile(f_path):\n",
        "                        self.image_files.append(f_path)\n",
        "                        self.labels.append(label)\n",
        "\n",
        "\n",
        "    def __len__(self):\n",
        "        return len(self.image_files)\n",
        "\n",
        "    def __getitem__(self, idx):\n",
        "        img_path = self.image_files[idx]\n",
        "        image = Image.open(img_path).convert('RGB') # Ensure image is in RGB format\n",
        "        label = self.labels[idx]\n",
        "\n",
        "        if self.transform:\n",
        "            image = self.transform(image)\n",
        "\n",
        "        return image, label\n",
        "\n",
        "# Create an instance of the dataset\n",
        "brain_mri_dataset = BrainMRIDataset(base_data_dir, transform=data_transforms)\n",
        "\n",
        "# Create a data loader\n",
        "dataloader = DataLoader(brain_mri_dataset, batch_size=32, shuffle=True)\n",
        "\n",
        "print(f\"Number of images found: {len(brain_mri_dataset)}\")\n",
        "# You can now iterate through the dataloader to get batches of images and labels\n",
        "# for images, labels in dataloader:\n",
        "#     print(images.shape, labels.shape)\n",
        "#     break # Example: process one batch"
      ]
    },
    {
      "cell_type": "code",
      "execution_count": 3,
      "metadata": {
        "colab": {
          "base_uri": "https://localhost:8080/"
        },
        "id": "Ha1LZWr8zJ4m",
        "outputId": "77829c40-f1ee-49c1-efc1-8cae0f58c7db"
      },
      "outputs": [
        {
          "name": "stdout",
          "output_type": "stream",
          "text": [
            "Training dataset size: 2400\n",
            "Testing dataset size: 600\n"
          ]
        }
      ],
      "source": [
        "from torch.utils.data import random_split\n",
        "\n",
        "# Define the split ratios\n",
        "train_size = int(0.8 * len(brain_mri_dataset))\n",
        "test_size = len(brain_mri_dataset) - train_size\n",
        "\n",
        "# Split the dataset\n",
        "train_dataset, test_dataset = random_split(brain_mri_dataset, [train_size, test_size])\n",
        "\n",
        "print(f\"Training dataset size: {len(train_dataset)}\")\n",
        "print(f\"Testing dataset size: {len(test_dataset)}\")"
      ]
    },
    {
      "cell_type": "code",
      "execution_count": 4,
      "metadata": {
        "colab": {
          "base_uri": "https://localhost:8080/",
          "height": 564
        },
        "id": "ggp8t3tnyet8",
        "outputId": "02a5af51-cd37-4bf2-ad9a-b50cbcde4594"
      },
      "outputs": [
        {
          "data": {
            "image/png": "[encoded data removed]",
            "text/plain": [
              "<Figure size 800x600 with 1 Axes>"
            ]
          },
          "metadata": {},
          "output_type": "display_data"
        }
      ],
      "source": [
        "# Get the labels from the training dataset\n",
        "train_labels = [train_dataset.dataset.labels[i] for i in train_dataset.indices]\n",
        "\n",
        "# Count the occurrences of each class\n",
        "from collections import Counter\n",
        "class_counts = Counter(train_labels)\n",
        "\n",
        "# Define class names (assuming 0: negative, 1: positive)\n",
        "class_names = ['negative', 'positive']\n",
        "\n",
        "# Create a bar plot\n",
        "plt.figure(figsize=(8, 6))\n",
        "plt.bar(class_names, [class_counts[0], class_counts[1]], color=['skyblue', 'lightcoral'])\n",
        "plt.xlabel('Class')\n",
        "plt.ylabel('Count')\n",
        "plt.title('Count of Images in Each Class (Training Data)')\n",
        "plt.show()"
      ]
    },
    {
      "cell_type": "code",
      "execution_count": 5,
      "metadata": {
        "colab": {
          "base_uri": "https://localhost:8080/"
        },
        "id": "63110f2b",
        "outputId": "9e987002-1ede-4c06-8fae-c89c506eda16"
      },
      "outputs": [
        {
          "name": "stdout",
          "output_type": "stream",
          "text": [
            "Using device: cuda\n"
          ]
        },
        {
          "name": "stderr",
          "output_type": "stream",
          "text": [
            "Downloading: \"https://download.pytorch.org/models/resnet18-f37072fd.pth\" to /root/.cache/torch/hub/checkpoints/resnet18-f37072fd.pth\n",
            "100%|██████████| 44.7M/44.7M [00:00<00:00, 127MB/s]\n"
          ]
        },
        {
          "name": "stdout",
          "output_type": "stream",
          "text": [
            "Pre-trained ResNet18 model loaded and modified for binary classification with Dropout.\n"
          ]
        }
      ],
      "source": [
        "import torch\n",
        "import torch.nn as nn\n",
        "import torchvision.models as models\n",
        "\n",
        "# Define the device to use (GPU if available, otherwise CPU)\n",
        "device = torch.device(\"cuda\" if torch.cuda.is_available() else \"cpu\")\n",
        "print(f\"Using device: {device}\")\n",
        "\n",
        "# Load a pre-trained ResNet18 model\n",
        "model = models.resnet18(weights=models.ResNet18_Weights.DEFAULT)\n",
        "\n",
        "# Modify the final fully connected layer for binary classification with Dropout\n",
        "num_ftrs = model.fc.in_features\n",
        "# Replace the final fc layer with a Sequential model that includes Dropout and Linear layer\n",
        "model.fc = nn.Sequential(\n",
        "    nn.Dropout(0.5), # Add dropout layer with dropout probability of 0.5\n",
        "    nn.Linear(num_ftrs, 2) # 2 output classes (positive/negative)\n",
        ")\n",
        "\n",
        "\n",
        "# Move the model to the device\n",
        "model = model.to(device)\n",
        "\n",
        "print(\"Pre-trained ResNet18 model loaded and modified for binary classification with Dropout.\")"
      ]
    },
    {
      "cell_type": "code",
      "execution_count": 5,
      "metadata": {
        "id": "fLxjU6SO0mm-"
      },
      "outputs": [],
      "source": []
    },
    {
      "cell_type": "code",
      "execution_count": 6,
      "metadata": {
        "colab": {
          "base_uri": "https://localhost:8080/"
        },
        "id": "217cf320",
        "outputId": "38cd722b-1448-44ba-9404-421f715b825c"
      },
      "outputs": [
        {
          "name": "stdout",
          "output_type": "stream",
          "text": [
            "Loss function (CrossEntropyLoss) and Optimizer (SGD) defined.\n"
          ]
        }
      ],
      "source": [
        "import torch.optim as optim\n",
        "\n",
        "# Define the loss function\n",
        "loss_fn = nn.CrossEntropyLoss()\n",
        "\n",
        "# Define the optimizer (SGD)\n",
        "optimizer = optim.SGD(model.parameters(), lr=0.001, momentum=0.9, weight_decay=0.0001)\n",
        "\n",
        "print(\"Loss function (CrossEntropyLoss) and Optimizer (SGD) defined.\")"
      ]
    },
    {
      "cell_type": "code",
      "execution_count": 6,
      "metadata": {
        "id": "9c3dr6c8056o"
      },
      "outputs": [],
      "source": []
    },
    {
      "cell_type": "code",
      "execution_count": null,
      "metadata": {
        "colab": {
          "base_uri": "https://localhost:8080/"
        },
        "id": "4f90b3d0",
        "outputId": "42ee6ce0-9e43-49d4-98a8-a5ac26905bbb"
      },
      "outputs": [
        {
          "name": "stdout",
          "output_type": "stream",
          "text": [
            "Train and test loop functions defined.\n"
          ]
        }
      ],
      "source": [
        "from sklearn.metrics import accuracy_score, precision_score, recall_score, f1_score\n",
        "import torch\n",
        "\n",
        "def train_loop(dataloader, model, loss_fn, optimizer):\n",
        "    size = len(dataloader.dataset)\n",
        "    model.train() # Set the model to training mode\n",
        "    train_loss, correct = 0, 0\n",
        "    for batch, (X, y) in enumerate(dataloader):\n",
        "        # Move data to the appropriate device\n",
        "        X, y = X.to(device), y.to(device)\n",
        "\n",
        "        # Compute prediction (forward pass)\n",
        "        pred = model(X)\n",
        "\n",
        "        # loss function\n",
        "        loss = loss_fn(pred, y)\n",
        "\n",
        "        # Backpropagation\n",
        "        optimizer.zero_grad()\n",
        "        loss.backward()\n",
        "        optimizer.step()\n",
        "\n",
        "        # Track loss and accuracy\n",
        "        train_loss += loss.item()\n",
        "        correct += (pred.argmax(1) == y).type(torch.float).sum().item()\n",
        "\n",
        "        if batch % 100 == 0:\n",
        "            loss, current = loss.item(), (batch + 1) * len(X)\n",
        "            print(f\"loss: {loss:>7f}  [{current:>5d}/{size:>5d}]\")\n",
        "\n",
        "    train_loss /= len(dataloader)\n",
        "    correct /= size\n",
        "    print(f\"Train Error: \\n Accuracy: {(100*correct):>0.1f}%, Avg loss: {train_loss:>8f} \\n\")\n",
        "\n",
        "def test_loop(dataloader, model, loss_fn):\n",
        "    size = len(dataloader.dataset)\n",
        "    num_batches = len(dataloader)\n",
        "    model.eval() # Set the model to evaluation mode\n",
        "    test_loss, correct = 0, 0\n",
        "    y_true = []\n",
        "    y_pred = []\n",
        "\n",
        "    with torch.inference_mode(): # Disable gradient calculation for evaluation\n",
        "        for X, y in dataloader:\n",
        "            # Move data to the appropriate device\n",
        "            X, y = X.to(device), y.to(device)\n",
        "\n",
        "            pred = model(X)\n",
        "            test_loss += loss_fn(pred, y).item()\n",
        "            correct += (pred.argmax(1) == y).type(torch.float).sum().item()\n",
        "\n",
        "            y_true.extend(y.cpu().numpy())\n",
        "            y_pred.extend(pred.argmax(1).cpu().numpy())\n",
        "\n",
        "    test_loss /= num_batches\n",
        "    correct /= size\n",
        "\n",
        "    # Calculate metrics\n",
        "    accuracy = accuracy_score(y_true, y_pred)\n",
        "    precision = precision_score(y_true, y_pred, average='weighted')\n",
        "    recall = recall_score(y_true, y_pred, average='weighted')\n",
        "    f1 = f1_score(y_true, y_pred, average='weighted')\n",
        "\n",
        "    print(f\"Test Error: \\n Accuracy: {(100*correct):>0.1f}%, Avg loss: {test_loss:>8f} \\n\")\n",
        "    print(f\"Accuracy: {accuracy:.4f}\")\n",
        "    print(f\"Precision: {precision:.4f}\")\n",
        "    print(f\"Recall: {recall:.4f}\")\n",
        "    print(f\"F1-score: {f1:.4f}\")\n",
        "\n",
        "    return test_loss # Return the average test loss\n",
        "\n",
        "print(\"Train and test loop functions defined.\")"
      ]
    },
    {
      "cell_type": "code",
      "execution_count": 8,
      "metadata": {
        "colab": {
          "base_uri": "https://localhost:8080/"
        },
        "id": "QObo61OA2Mpt",
        "outputId": "711be7bf-047a-41a5-b0ea-c50f8f06bbe2"
      },
      "outputs": [
        {
          "name": "stdout",
          "output_type": "stream",
          "text": [
            "Epoch 1\n",
            "-------------------------------\n",
            "loss: 0.798765  [   32/ 2400]\n",
            "Train Error: \n",
            " Accuracy: 79.2%, Avg loss: 0.421823 \n",
            "\n",
            "Test Error: \n",
            " Accuracy: 95.8%, Avg loss: 0.124021 \n",
            "\n",
            "Accuracy: 0.9583\n",
            "Precision: 0.9588\n",
            "Recall: 0.9583\n",
            "F1-score: 0.9583\n",
            "Epoch 2\n",
            "-------------------------------\n",
            "loss: 0.256354  [   32/ 2400]\n",
            "Train Error: \n",
            " Accuracy: 95.0%, Avg loss: 0.145918 \n",
            "\n",
            "Test Error: \n",
            " Accuracy: 98.8%, Avg loss: 0.047707 \n",
            "\n",
            "Accuracy: 0.9883\n",
            "Precision: 0.9883\n",
            "Recall: 0.9883\n",
            "F1-score: 0.9883\n",
            "Epoch 3\n",
            "-------------------------------\n",
            "loss: 0.158373  [   32/ 2400]\n",
            "Train Error: \n",
            " Accuracy: 97.5%, Avg loss: 0.072690 \n",
            "\n",
            "Test Error: \n",
            " Accuracy: 99.0%, Avg loss: 0.040848 \n",
            "\n",
            "Accuracy: 0.9900\n",
            "Precision: 0.9900\n",
            "Recall: 0.9900\n",
            "F1-score: 0.9900\n",
            "Epoch 4\n",
            "-------------------------------\n",
            "loss: 0.023031  [   32/ 2400]\n",
            "Train Error: \n",
            " Accuracy: 98.1%, Avg loss: 0.052607 \n",
            "\n",
            "Test Error: \n",
            " Accuracy: 99.3%, Avg loss: 0.033861 \n",
            "\n",
            "Accuracy: 0.9933\n",
            "Precision: 0.9934\n",
            "Recall: 0.9933\n",
            "F1-score: 0.9933\n",
            "Epoch 5\n",
            "-------------------------------\n",
            "loss: 0.057362  [   32/ 2400]\n",
            "Train Error: \n",
            " Accuracy: 98.4%, Avg loss: 0.041352 \n",
            "\n",
            "Test Error: \n",
            " Accuracy: 99.0%, Avg loss: 0.027205 \n",
            "\n",
            "Accuracy: 0.9900\n",
            "Precision: 0.9900\n",
            "Recall: 0.9900\n",
            "F1-score: 0.9900\n",
            "Epoch 6\n",
            "-------------------------------\n",
            "loss: 0.083000  [   32/ 2400]\n",
            "Train Error: \n",
            " Accuracy: 99.2%, Avg loss: 0.026239 \n",
            "\n",
            "Test Error: \n",
            " Accuracy: 99.7%, Avg loss: 0.024093 \n",
            "\n",
            "Accuracy: 0.9967\n",
            "Precision: 0.9967\n",
            "Recall: 0.9967\n",
            "F1-score: 0.9967\n",
            "Epoch 7\n",
            "-------------------------------\n",
            "loss: 0.007242  [   32/ 2400]\n",
            "Train Error: \n",
            " Accuracy: 99.7%, Avg loss: 0.015459 \n",
            "\n",
            "Test Error: \n",
            " Accuracy: 99.5%, Avg loss: 0.022669 \n",
            "\n",
            "Accuracy: 0.9950\n",
            "Precision: 0.9950\n",
            "Recall: 0.9950\n",
            "F1-score: 0.9950\n",
            "Epoch 8\n",
            "-------------------------------\n",
            "loss: 0.001647  [   32/ 2400]\n",
            "Train Error: \n",
            " Accuracy: 99.2%, Avg loss: 0.019362 \n",
            "\n",
            "Test Error: \n",
            " Accuracy: 99.8%, Avg loss: 0.016879 \n",
            "\n",
            "Accuracy: 0.9983\n",
            "Precision: 0.9983\n",
            "Recall: 0.9983\n",
            "F1-score: 0.9983\n",
            "Epoch 9\n",
            "-------------------------------\n",
            "loss: 0.007010  [   32/ 2400]\n",
            "Train Error: \n",
            " Accuracy: 99.7%, Avg loss: 0.010214 \n",
            "\n",
            "Test Error: \n",
            " Accuracy: 99.5%, Avg loss: 0.020168 \n",
            "\n",
            "Accuracy: 0.9950\n",
            "Precision: 0.9950\n",
            "Recall: 0.9950\n",
            "F1-score: 0.9950\n",
            "Epoch 10\n",
            "-------------------------------\n",
            "loss: 0.000964  [   32/ 2400]\n",
            "Train Error: \n",
            " Accuracy: 99.6%, Avg loss: 0.012480 \n",
            "\n",
            "Test Error: \n",
            " Accuracy: 99.8%, Avg loss: 0.017188 \n",
            "\n",
            "Accuracy: 0.9983\n",
            "Precision: 0.9983\n",
            "Recall: 0.9983\n",
            "F1-score: 0.9983\n",
            "Done!\n"
          ]
        }
      ],
      "source": [
        "# Create DataLoaders for the training and testing datasets\n",
        "train_dataloader = DataLoader(train_dataset, batch_size=32, shuffle=True)\n",
        "test_dataloader = DataLoader(test_dataset, batch_size=32, shuffle=False) # No need to shuffle test data\n",
        "\n",
        "epochs = 10 # You can adjust the number of epochs\n",
        "\n",
        "for t in range(epochs):\n",
        "    print(f\"Epoch {t+1}\\n-------------------------------\")\n",
        "    train_loop(train_dataloader, model, loss_fn, optimizer)\n",
        "    test_loop(test_dataloader, model, loss_fn)\n",
        "print(\"Done!\")"
      ]
    },
    {
      "cell_type": "code",
      "execution_count": 9,
      "metadata": {
        "colab": {
          "base_uri": "https://localhost:8080/"
        },
        "id": "f77216eb",
        "outputId": "4f977e4e-607d-4a0f-80a3-05a2e62b1824"
      },
      "outputs": [
        {
          "name": "stdout",
          "output_type": "stream",
          "text": [
            "Accuracy: 0.9967\n",
            "Precision: 0.9967\n",
            "Recall: 0.9967\n",
            "F1-score: 0.9967\n"
          ]
        }
      ],
      "source": [
        "from sklearn.metrics import accuracy_score, precision_score, recall_score, f1_score\n",
        "\n",
        "# Assuming you have y_true and y_pred from your test loop\n",
        "# y_true are the true labels and y_pred are the model's predictions\n",
        "\n",
        "# Example: Using the predictions from the last test loop\n",
        "# Note: These are the predictions from the last epoch of model_2 training\n",
        "# You might want to run a separate evaluation after training is complete\n",
        "\n",
        "# Correctly get the true labels from the test_dataset (which is a Subset)\n",
        "y_true = [test_dataset.dataset.labels[i] for i in test_dataset.indices]\n",
        "\n",
        "y_pred = []\n",
        "model.eval()\n",
        "with torch.no_grad():\n",
        "    for X, y in test_dataloader:\n",
        "        X = X.to(device)\n",
        "        pred = model(X)\n",
        "        y_pred.extend(pred.argmax(1).cpu().numpy())\n",
        "\n",
        "# Calculate metrics\n",
        "accuracy = accuracy_score(y_true, y_pred)\n",
        "precision = precision_score(y_true, y_pred, average='weighted') # Use 'weighted' for multiclass\n",
        "recall = recall_score(y_true, y_pred, average='weighted')\n",
        "f1 = f1_score(y_true, y_pred, average='weighted')\n",
        "\n",
        "print(f\"Accuracy: {accuracy:.4f}\")\n",
        "print(f\"Precision: {precision:.4f}\")\n",
        "print(f\"Recall: {recall:.4f}\")\n",
        "print(f\"F1-score: {f1:.4f}\")\n",
        "\n"
      ]
    },
    {
      "cell_type": "code",
      "execution_count": 10,
      "metadata": {
        "colab": {
          "base_uri": "https://localhost:8080/"
        },
        "id": "tQgHFMpt-42j",
        "outputId": "8ad0d8ec-0517-4856-9f64-f40fd2515adb"
      },
      "outputs": [
        {
          "name": "stdout",
          "output_type": "stream",
          "text": [
            "\u001b[2K   \u001b[90m━━━━━━━━━━━━━━━━━━━━━━━━━━━━━━━━━━━━━━━━\u001b[0m \u001b[32m983.0/983.0 kB\u001b[0m \u001b[31m29.2 MB/s\u001b[0m eta \u001b[36m0:00:00\u001b[0m\n",
            "\u001b[2K   \u001b[90m━━━━━━━━━━━━━━━━━━━━━━━━━━━━━━━━━━━━━━━━\u001b[0m \u001b[32m363.4/363.4 MB\u001b[0m \u001b[31m1.3 MB/s\u001b[0m eta \u001b[36m0:00:00\u001b[0m\n",
            "\u001b[2K   \u001b[90m━━━━━━━━━━━━━━━━━━━━━━━━━━━━━━━━━━━━━━━━\u001b[0m \u001b[32m13.8/13.8 MB\u001b[0m \u001b[31m87.9 MB/s\u001b[0m eta \u001b[36m0:00:00\u001b[0m\n",
            "\u001b[2K   \u001b[90m━━━━━━━━━━━━━━━━━━━━━━━━━━━━━━━━━━━━━━━━\u001b[0m \u001b[32m24.6/24.6 MB\u001b[0m \u001b[31m98.4 MB/s\u001b[0m eta \u001b[36m0:00:00\u001b[0m\n",
            "\u001b[2K   \u001b[90m━━━━━━━━━━━━━━━━━━━━━━━━━━━━━━━━━━━━━━━━\u001b[0m \u001b[32m883.7/883.7 kB\u001b[0m \u001b[31m60.4 MB/s\u001b[0m eta \u001b[36m0:00:00\u001b[0m\n",
            "\u001b[2K   \u001b[90m━━━━━━━━━━━━━━━━━━━━━━━━━━━━━━━━━━━━━━━━\u001b[0m \u001b[32m664.8/664.8 MB\u001b[0m \u001b[31m1.1 MB/s\u001b[0m eta \u001b[36m0:00:00\u001b[0m\n",
            "\u001b[2K   \u001b[90m━━━━━━━━━━━━━━━━━━━━━━━━━━━━━━━━━━━━━━━━\u001b[0m \u001b[32m211.5/211.5 MB\u001b[0m \u001b[31m6.4 MB/s\u001b[0m eta \u001b[36m0:00:00\u001b[0m\n",
            "\u001b[2K   \u001b[90m━━━━━━━━━━━━━━━━━━━━━━━━━━━━━━━━━━━━━━━━\u001b[0m \u001b[32m56.3/56.3 MB\u001b[0m \u001b[31m17.6 MB/s\u001b[0m eta \u001b[36m0:00:00\u001b[0m\n",
            "\u001b[2K   \u001b[90m━━━━━━━━━━━━━━━━━━━━━━━━━━━━━━━━━━━━━━━━\u001b[0m \u001b[32m127.9/127.9 MB\u001b[0m \u001b[31m7.8 MB/s\u001b[0m eta \u001b[36m0:00:00\u001b[0m\n",
            "\u001b[2K   \u001b[90m━━━━━━━━━━━━━━━━━━━━━━━━━━━━━━━━━━━━━━━━\u001b[0m \u001b[32m207.5/207.5 MB\u001b[0m \u001b[31m6.1 MB/s\u001b[0m eta \u001b[36m0:00:00\u001b[0m\n",
            "\u001b[2K   \u001b[90m━━━━━━━━━━━━━━━━━━━━━━━━━━━━━━━━━━━━━━━━\u001b[0m \u001b[32m188.7/188.7 MB\u001b[0m \u001b[31m6.4 MB/s\u001b[0m eta \u001b[36m0:00:00\u001b[0m\n",
            "\u001b[2K   \u001b[90m━━━━━━━━━━━━━━━━━━━━━━━━━━━━━━━━━━━━━━━━\u001b[0m \u001b[32m21.1/21.1 MB\u001b[0m \u001b[31m80.5 MB/s\u001b[0m eta \u001b[36m0:00:00\u001b[0m\n",
            "\u001b[?25hmlxtend version: 0.23.4\n"
          ]
        }
      ],
      "source": [
        "# See if torchmetrics exists, if not, install it\n",
        "try:\n",
        "    import torchmetrics, mlxtend\n",
        "    print(f\"mlxtend version: {mlxtend.__version__}\")\n",
        "    assert int(mlxtend.__version__.split(\".\")[1]) >= 19, \"mlxtend verison should be 0.19.0 or higher\"\n",
        "except:\n",
        "    !pip install -q torchmetrics -U mlxtend # <- Note: If you're using Google Colab, this may require restarting the runtime\n",
        "    import torchmetrics, mlxtend\n",
        "    print(f\"mlxtend version: {mlxtend.__version__}\")"
      ]
    },
    {
      "cell_type": "code",
      "execution_count": 11,
      "metadata": {
        "colab": {
          "base_uri": "https://localhost:8080/"
        },
        "id": "MI1MOYXc-4xK",
        "outputId": "87601a98-07f9-4206-d3be-4043bf09793a"
      },
      "outputs": [
        {
          "name": "stdout",
          "output_type": "stream",
          "text": [
            "0.23.4\n"
          ]
        }
      ],
      "source": [
        "# Import mlxtend upgraded version\n",
        "import mlxtend\n",
        "print(mlxtend.__version__)\n",
        "assert int(mlxtend.__version__.split(\".\")[1]) >= 19 # should be version 0.19.0 or higher"
      ]
    },
    {
      "cell_type": "code",
      "execution_count": 12,
      "metadata": {
        "colab": {
          "base_uri": "https://localhost:8080/",
          "height": 658
        },
        "id": "yBT0gVd4-4s0",
        "outputId": "9f7f4869-895a-46c4-ae03-8364a5811660"
      },
      "outputs": [
        {
          "data": {
            "image/png": "[encoded data removed]",
            "text/plain": [
              "<Figure size 1000x700 with 1 Axes>"
            ]
          },
          "metadata": {},
          "output_type": "display_data"
        }
      ],
      "source": [
        "from torchmetrics import ConfusionMatrix\n",
        "from mlxtend.plotting import plot_confusion_matrix\n",
        "import numpy as np\n",
        "\n",
        "# y_pred is already calculated in the previous cell\n",
        "\n",
        "# Define class names based on your problem (assuming 0: negative, 1: positive)\n",
        "class_names = ['negative', 'positive']\n",
        "\n",
        "# 2. Setup confusion matrix instance and compare predictions to targets\n",
        "# Convert y_true and y_pred to tensors\n",
        "y_true_tensor = torch.tensor(y_true)\n",
        "y_pred_tensor = torch.tensor(y_pred)\n",
        "\n",
        "confmat = ConfusionMatrix(num_classes=len(class_names), task='binary') # Changed task to 'binary' for binary classification\n",
        "confmat_tensor = confmat(preds=y_pred_tensor,\n",
        "                         target=y_true_tensor)\n",
        "\n",
        "# 3. Plot the confusion matrix\n",
        "fig, ax = plot_confusion_matrix(\n",
        "    conf_mat=confmat_tensor.numpy(), # matplotlib likes working with NumPy\n",
        "    class_names=class_names, # turn the row and column labels into class names\n",
        "    figsize=(10, 7)\n",
        ");"
      ]
    }
  ],
  "metadata": {
    "accelerator": "GPU",
    "colab": {
      "gpuType": "T4",
      "provenance": []
    },
    "kernelspec": {
      "display_name": "Python 3",
      "name": "python3"
    },
    "language_info": {
      "name": "python"
    }
  },
  "nbformat": 4,
  "nbformat_minor": 0
}
